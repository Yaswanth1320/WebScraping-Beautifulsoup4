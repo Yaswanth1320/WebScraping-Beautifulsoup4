{
 "cells": [
  {
   "cell_type": "markdown",
   "metadata": {},
   "source": [
    "### Load the required Modules"
   ]
  },
  {
   "cell_type": "code",
   "execution_count": 2,
   "metadata": {},
   "outputs": [],
   "source": [
    "import requests\n",
    "from bs4 import BeautifulSoup\n",
    "import regex as re"
   ]
  },
  {
   "cell_type": "markdown",
   "metadata": {},
   "source": [
    "### Load the web page covert it into beautiful soup object"
   ]
  },
  {
   "cell_type": "code",
   "execution_count": 44,
   "metadata": {},
   "outputs": [
    {
     "name": "stdout",
     "output_type": "stream",
     "text": [
      "<!DOCTYPE html>\n",
      "<html lang=\"en\">\n",
      " <head>\n",
      "  <meta charset=\"utf-8\"/>\n",
      "  <meta content=\"width=device-width, initial-scale=1.0\" name=\"viewport\"/>\n",
      "  <title>\n",
      "   home\n",
      "  </title>\n",
      "  <link href=\"https://cdn.jsdelivr.net/npm/swiper@10/swiper-bundle.min.css\" rel=\"stylesheet\"/>\n",
      "  <link href=\"https://cdnjs.cloudflare.com/ajax/libs/font-awesome/6.4.0/css/all.min.css\" rel=\"stylesheet\"/>\n",
      "  <link href=\"stylee.css\" rel=\"stylesheet\"/>\n",
      " </head>\n",
      " <body>\n",
      "  <section class=\"header\">\n",
      "   <a class=\"logo\" href=\"index.html\">\n",
      "    Travel\n",
      "   </a>\n",
      "   <nav class=\"navbar\">\n",
      "    <a href=\"index.html\">\n",
      "     home\n",
      "    </a>\n",
      "    <a href=\"./html pages/about.html\">\n",
      "     about\n",
      "    </a>\n",
      "    <a href=\"./html pages/package.html\">\n",
      "     package\n",
      "    </a>\n",
      "    <a href=\"./html pages/book.html\">\n",
      "     book\n",
      "    </a>\n",
      "   </nav>\n",
      "   <div class=\"fas fa-bars\" id=\"menu-btn\">\n",
      "   </div>\n",
      "  </section>\n",
      "  <section class=\"home\">\n",
      "   <div class=\"swiper home-slider\">\n",
      "    <div class=\"swiper-wrapper\">\n",
      "     <div class=\"swiper-slide slide\" style=\"background: url(./images/home6.jpg) no-repeat\">\n",
      "      <div class=\"content\">\n",
      "       <span>\n",
      "        explore , discover ,travel\n",
      "       </span>\n",
      "       <h3>\n",
      "        travel around the world\n",
      "       </h3>\n",
      "       <a class=\"btn\" href=\"./html pages/package.html\">\n",
      "        discover more\n",
      "       </a>\n",
      "      </div>\n",
      "     </div>\n",
      "     <div class=\"swiper-slide slide\" style=\"background: url(./images/home5.jpg) no-repeat\">\n",
      "      <div class=\"content\">\n",
      "       <span>\n",
      "        explore , discover ,travel\n",
      "       </span>\n",
      "       <h3>\n",
      "        discover the new places\n",
      "       </h3>\n",
      "       <a class=\"btn\" href=\"./html pages/package.html\">\n",
      "        discover more\n",
      "       </a>\n",
      "      </div>\n",
      "     </div>\n",
      "     <div class=\"swiper-slide slide\" style=\"background: url(./images/home4.jpg) no-repeat\">\n",
      "      <div class=\"content\">\n",
      "       <span>\n",
      "        explore , discover ,travel\n",
      "       </span>\n",
      "       <h3>\n",
      "        make your tour worth while\n",
      "       </h3>\n",
      "       <a class=\"btn\" href=\"./html pages/package.html\">\n",
      "        discover more\n",
      "       </a>\n",
      "      </div>\n",
      "     </div>\n",
      "    </div>\n",
      "    <div class=\"swiper-button-next\">\n",
      "    </div>\n",
      "    <div class=\"swiper-button-prev\">\n",
      "    </div>\n",
      "   </div>\n",
      "   <section class=\"services\">\n",
      "    <h1 class=\"heading-title\">\n",
      "     Our services\n",
      "    </h1>\n",
      "    <div class=\"box-continer\">\n",
      "     <div class=\"box\">\n",
      "      <a href=\"#\">\n",
      "       <i class=\"fa-solid fa-mountain-sun icon\">\n",
      "       </i>\n",
      "      </a>\n",
      "      <h3 class=\"hover\">\n",
      "       adventure\n",
      "      </h3>\n",
      "     </div>\n",
      "     <div class=\"box\">\n",
      "      <a href=\"#\">\n",
      "       <i class=\"fa-solid fa-map-location-dot icon\">\n",
      "       </i>\n",
      "      </a>\n",
      "      <h3 class=\"hover\">\n",
      "       tour guide\n",
      "      </h3>\n",
      "     </div>\n",
      "     <div class=\"box\">\n",
      "      <a href=\"#\">\n",
      "       <i class=\"fa-solid fa-hill-rockslide icon\">\n",
      "       </i>\n",
      "      </a>\n",
      "      <h3 class=\"hover\">\n",
      "       trekking\n",
      "      </h3>\n",
      "     </div>\n",
      "     <div class=\"box\">\n",
      "      <a href=\"#\">\n",
      "       <i class=\"fa-solid fa-fire icon\">\n",
      "       </i>\n",
      "      </a>\n",
      "      <h3 class=\"hover\">\n",
      "       camp fire\n",
      "      </h3>\n",
      "     </div>\n",
      "     <div class=\"box\">\n",
      "      <a href=\"#\">\n",
      "       <i class=\"fa-solid fa-car icon\">\n",
      "       </i>\n",
      "      </a>\n",
      "      <h3 class=\"hover\">\n",
      "       off road\n",
      "      </h3>\n",
      "     </div>\n",
      "     <div class=\"box\">\n",
      "      <a href=\"#\">\n",
      "       <i class=\"fa-solid fa-campground icon\">\n",
      "       </i>\n",
      "      </a>\n",
      "      <h3 class=\"hover\">\n",
      "       camping\n",
      "      </h3>\n",
      "     </div>\n",
      "    </div>\n",
      "   </section>\n",
      "   <!-- Home about section -->\n",
      "   <div class=\"home-about\">\n",
      "    <div class=\"image\">\n",
      "     <img alt=\"\" height=\"400\" src=\"./images/about.jpg\" width=\"600\"/>\n",
      "    </div>\n",
      "    <div class=\"content\">\n",
      "     <h3>\n",
      "      about us\n",
      "     </h3>\n",
      "     <p>\n",
      "      we believe that travel is not just a journey; it's an experience that enriches your soul, \n",
      "                broadens your horizons, and creates memories to last a lifetime. Our travel website is your \n",
      "                one-stop destination for all your globetrotting dreams, where we aim to inspire, guide, and \n",
      "                assist you in planning the perfect getaway.\n",
      "     </p>\n",
      "     <a href=\"./html pages/about.html\">\n",
      "      read more\n",
      "     </a>\n",
      "    </div>\n",
      "   </div>\n",
      "   <!-- Home about section end -->\n",
      "   <!-- packages section start-->\n",
      "   <div class=\"packages\">\n",
      "    <h1 class=\"heading\">\n",
      "     Our packages\n",
      "    </h1>\n",
      "    <div class=\"contanier\">\n",
      "     <div class=\"box\">\n",
      "      <div class=\"image\">\n",
      "       <img alt=\"photo\" class=\"package_img\" src=\"./images/manali.jpg\"/>\n",
      "       <h1 class=\"package_heading\">\n",
      "        Manali\n",
      "       </h1>\n",
      "      </div>\n",
      "      <div class=\"content\">\n",
      "       <i class=\"fa-sharp fa-solid fa-location-dot\">\n",
      "        manali\n",
      "       </i>\n",
      "       <br/>\n",
      "       <a class=\"btn\" href=\"./html pages/book.html\">\n",
      "        book now\n",
      "       </a>\n",
      "      </div>\n",
      "     </div>\n",
      "     <div class=\"box\">\n",
      "      <div class=\"image\">\n",
      "       <img alt=\"photo\" class=\"package_img\" src=\"./images/london.jpg\"/>\n",
      "       <h1 class=\"package_heading\">\n",
      "        London\n",
      "       </h1>\n",
      "      </div>\n",
      "      <div class=\"content\">\n",
      "       <i class=\"fa-sharp fa-solid fa-location-dot\">\n",
      "        London\n",
      "       </i>\n",
      "       <br/>\n",
      "       <a class=\"btn\" href=\"./html pages/book.html\">\n",
      "        book now\n",
      "       </a>\n",
      "      </div>\n",
      "     </div>\n",
      "     <div class=\"box\">\n",
      "      <div class=\"image\">\n",
      "       <img alt=\"photo\" class=\"package_img\" src=\"./images/maldives.jpg\"/>\n",
      "       <h1 class=\"package_heading\">\n",
      "        Maldives\n",
      "       </h1>\n",
      "      </div>\n",
      "      <div class=\"content\">\n",
      "       <i class=\"fa-sharp fa-solid fa-location-dot\">\n",
      "        Maldives\n",
      "       </i>\n",
      "       <br/>\n",
      "       <a class=\"btn\" href=\"./html pages/book.html\">\n",
      "        book now\n",
      "       </a>\n",
      "      </div>\n",
      "     </div>\n",
      "    </div>\n",
      "    <div class=\"load\">\n",
      "     <a class=\"btn\" href=\"./html pages/package.html\">\n",
      "      load more\n",
      "     </a>\n",
      "    </div>\n",
      "   </div>\n",
      "   <!-- packages section end -->\n",
      "   <!-- offer section start -->\n",
      "   <section class=\"offer\">\n",
      "    <div class=\"content\">\n",
      "     <h3>\n",
      "      Get upto 50% offer\n",
      "     </h3>\n",
      "     <p>\n",
      "      here are the places which we get 50% offer on them\n",
      "     </p>\n",
      "     <a class=\"btn\" href=\"./html pages/book.html\">\n",
      "      Book now\n",
      "     </a>\n",
      "    </div>\n",
      "   </section>\n",
      "   <!-- offer section end -->\n",
      "   <section class=\"footer\">\n",
      "    <div class=\"box-continer\">\n",
      "     <div class=\"box\">\n",
      "      <h3>\n",
      "       quick links\n",
      "      </h3>\n",
      "      <a href=\"index.html\">\n",
      "       <i class=\"fas fa-angle-right\">\n",
      "       </i>\n",
      "       home\n",
      "      </a>\n",
      "      <a href=\"./html pages/about.html\">\n",
      "       <i class=\"fas fa-angle-right\">\n",
      "       </i>\n",
      "       about\n",
      "      </a>\n",
      "      <a href=\"./html pages/package.html\">\n",
      "       <i class=\"fas fa-angle-right\">\n",
      "       </i>\n",
      "       package\n",
      "      </a>\n",
      "      <a href=\"./html pages/book.html\">\n",
      "       <i class=\"fas fa-angle-right\">\n",
      "       </i>\n",
      "       book\n",
      "      </a>\n",
      "     </div>\n",
      "     <div class=\"box\">\n",
      "      <h3>\n",
      "       extra links\n",
      "      </h3>\n",
      "      <a href=\"#\">\n",
      "       <i class=\"fas fa-angle-right\">\n",
      "       </i>\n",
      "       questions\n",
      "      </a>\n",
      "      <a href=\"#\">\n",
      "       <i class=\"fas fa-angle-right\">\n",
      "       </i>\n",
      "       us\n",
      "      </a>\n",
      "      <a href=\"#\">\n",
      "       <i class=\"fas fa-angle-right\">\n",
      "       </i>\n",
      "       policy\n",
      "      </a>\n",
      "      <a href=\"#\">\n",
      "       <i class=\"fas fa-angle-right\">\n",
      "       </i>\n",
      "       of use\n",
      "      </a>\n",
      "     </div>\n",
      "     <div class=\"box\">\n",
      "      <h3>\n",
      "       contact info\n",
      "      </h3>\n",
      "      <a href=\"#\">\n",
      "       <i class=\"fas fa-phone\">\n",
      "       </i>\n",
      "       +123-567-890\n",
      "      </a>\n",
      "      <a href=\"#\">\n",
      "       <i class=\"fas fa-phone\">\n",
      "       </i>\n",
      "       +111-666-777\n",
      "      </a>\n",
      "      <a href=\"#\">\n",
      "       <i class=\"fas fa-envelope\">\n",
      "       </i>\n",
      "       Yaswanth@gmail.com\n",
      "      </a>\n",
      "      <a href=\"#\">\n",
      "       <i class=\"fas fa-map\">\n",
      "       </i>\n",
      "       Andhra Pradesh, india 524346\n",
      "      </a>\n",
      "     </div>\n",
      "     <div class=\"box\">\n",
      "      <h3>\n",
      "       follow us\n",
      "      </h3>\n",
      "      <a href=\"#\">\n",
      "       <i class=\"fa-brands fa-facebook\">\n",
      "       </i>\n",
      "       facebook\n",
      "      </a>\n",
      "      <a href=\"#\">\n",
      "       <i class=\"fa-brands fa-instagram\">\n",
      "       </i>\n",
      "       instagram\n",
      "      </a>\n",
      "      <a href=\"#\">\n",
      "       <i class=\"fa-brands fa-twitter\">\n",
      "       </i>\n",
      "       twitter\n",
      "      </a>\n",
      "      <a href=\"#\">\n",
      "       <i class=\"fa-brands fa-linkedin\">\n",
      "       </i>\n",
      "       Linkedin\n",
      "      </a>\n",
      "     </div>\n",
      "    </div>\n",
      "    <div class=\"credit\">\n",
      "     Created by\n",
      "     <span>\n",
      "      Yaswanth parvathala\n",
      "     </span>\n",
      "     | all rights reserved!\n",
      "    </div>\n",
      "   </section>\n",
      "   <script src=\"https://cdn.jsdelivr.net/npm/swiper@10/swiper-bundle.min.js\">\n",
      "   </script>\n",
      "   <link href=\"script.js\" rel=\"stylesheet\"/>\n",
      "  </section>\n",
      " </body>\n",
      "</html>\n",
      "\n"
     ]
    }
   ],
   "source": [
    "r = requests.get(\"https://yaswanth1320.github.io/travel-website/\")\n",
    "soup = BeautifulSoup(r.text, \"lxml\")\n",
    "\n",
    "print(soup.prettify())"
   ]
  },
  {
   "cell_type": "markdown",
   "metadata": {},
   "source": [
    "### Using beatifulsoup for scrapping"
   ]
  },
  {
   "cell_type": "markdown",
   "metadata": {},
   "source": [
    "### Find and Find_all methods"
   ]
  },
  {
   "cell_type": "code",
   "execution_count": 45,
   "metadata": {},
   "outputs": [
    {
     "data": {
      "text/plain": [
       "<a class=\"logo\" href=\"index.html\">Travel</a>"
      ]
     },
     "execution_count": 45,
     "metadata": {},
     "output_type": "execute_result"
    }
   ],
   "source": [
    "#find method finds only the first h3 tags in webpage\n",
    "first_element = soup.find(\"a\")\n",
    "first_element"
   ]
  },
  {
   "cell_type": "code",
   "execution_count": 48,
   "metadata": {},
   "outputs": [
    {
     "data": {
      "text/plain": [
       "[<h1 class=\"heading-title\">Our services</h1>,\n",
       " <h1 class=\"heading\">Our packages</h1>,\n",
       " <h1 class=\"package_heading\">Manali</h1>,\n",
       " <h1 class=\"package_heading\">London</h1>,\n",
       " <h1 class=\"package_heading\">Maldives</h1>]"
      ]
     },
     "execution_count": 48,
     "metadata": {},
     "output_type": "execute_result"
    }
   ],
   "source": [
    "#find_all finds all the h3 tags in webpage\n",
    "elements = soup.find_all(\"h1\")\n",
    "elements"
   ]
  },
  {
   "cell_type": "code",
   "execution_count": 49,
   "metadata": {},
   "outputs": [
    {
     "data": {
      "text/plain": [
       "<a class=\"logo\" href=\"index.html\">Travel</a>"
      ]
     },
     "execution_count": 49,
     "metadata": {},
     "output_type": "execute_result"
    }
   ],
   "source": [
    "#we can pass attributes to find/find_all functions\n",
    "location = soup.find(\"a\", attrs={\"class\": \"logo\"})\n",
    "location"
   ]
  },
  {
   "cell_type": "code",
   "execution_count": 50,
   "metadata": {},
   "outputs": [
    {
     "data": {
      "text/plain": [
       "<a class=\"logo\" href=\"index.html\">Travel</a>"
      ]
     },
     "execution_count": 50,
     "metadata": {},
     "output_type": "execute_result"
    }
   ],
   "source": [
    "# we can net find/find_all function\n",
    "box = soup.find(\"section\")\n",
    "title = box.find(\"a\")\n",
    "title"
   ]
  },
  {
   "cell_type": "code",
   "execution_count": 53,
   "metadata": {},
   "outputs": [
    {
     "data": {
      "text/plain": [
       "[<h1 class=\"heading\">Our packages</h1>]"
      ]
     },
     "execution_count": 53,
     "metadata": {},
     "output_type": "execute_result"
    }
   ],
   "source": [
    "#we can search specific string using regx libraby\n",
    "element = soup.find_all(\"h1\", string=re.compile(\"packages\"))\n",
    "element"
   ]
  },
  {
   "cell_type": "markdown",
   "metadata": {},
   "source": [
    "### Select CSS Selector\n"
   ]
  },
  {
   "cell_type": "code",
   "execution_count": 54,
   "metadata": {},
   "outputs": [
    {
     "data": {
      "text/plain": [
       "[<i class=\"fa-solid fa-mountain-sun icon\"></i>,\n",
       " <i class=\"fa-solid fa-map-location-dot icon\"></i>,\n",
       " <i class=\"fa-solid fa-hill-rockslide icon\"></i>,\n",
       " <i class=\"fa-solid fa-fire icon\"></i>,\n",
       " <i class=\"fa-solid fa-car icon\"></i>,\n",
       " <i class=\"fa-solid fa-campground icon\"></i>,\n",
       " <i class=\"fa-sharp fa-solid fa-location-dot\"> manali</i>,\n",
       " <i class=\"fa-sharp fa-solid fa-location-dot\"> London</i>,\n",
       " <i class=\"fa-sharp fa-solid fa-location-dot\"> Maldives</i>,\n",
       " <i class=\"fas fa-angle-right\"></i>,\n",
       " <i class=\"fas fa-angle-right\"></i>,\n",
       " <i class=\"fas fa-angle-right\"></i>,\n",
       " <i class=\"fas fa-angle-right\"></i>,\n",
       " <i class=\"fas fa-angle-right\"></i>,\n",
       " <i class=\"fas fa-angle-right\"></i>,\n",
       " <i class=\"fas fa-angle-right\"></i>,\n",
       " <i class=\"fas fa-angle-right\"></i>,\n",
       " <i class=\"fas fa-phone\"></i>,\n",
       " <i class=\"fas fa-phone\"></i>,\n",
       " <i class=\"fas fa-envelope\"></i>,\n",
       " <i class=\"fas fa-map\"></i>,\n",
       " <i class=\"fa-brands fa-facebook\"></i>,\n",
       " <i class=\"fa-brands fa-instagram\"></i>,\n",
       " <i class=\"fa-brands fa-twitter\"></i>,\n",
       " <i class=\"fa-brands fa-linkedin\"></i>]"
      ]
     },
     "execution_count": 54,
     "metadata": {},
     "output_type": "execute_result"
    }
   ],
   "source": [
    "select = soup.select(\"section i\")\n",
    "select"
   ]
  },
  {
   "cell_type": "markdown",
   "metadata": {},
   "source": [
    "### Different Properties of Html\n"
   ]
  },
  {
   "cell_type": "code",
   "execution_count": 55,
   "metadata": {},
   "outputs": [
    {
     "data": {
      "text/plain": [
       "'Our services'"
      ]
     },
     "execution_count": 55,
     "metadata": {},
     "output_type": "execute_result"
    }
   ],
   "source": [
    "#use string method to get the string\n",
    "element = soup.find(\"h1\").string\n",
    "element"
   ]
  },
  {
   "cell_type": "code",
   "execution_count": 56,
   "metadata": {},
   "outputs": [
    {
     "data": {
      "text/plain": [
       "'Travel'"
      ]
     },
     "execution_count": 56,
     "metadata": {},
     "output_type": "execute_result"
    }
   ],
   "source": [
    "#use text method(morelines) to get the string\n",
    "element = soup.find(\"a\").text\n",
    "element"
   ]
  },
  {
   "cell_type": "code",
   "execution_count": 60,
   "metadata": {},
   "outputs": [
    {
     "data": {
      "text/plain": [
       "'index.html'"
      ]
     },
     "execution_count": 60,
     "metadata": {},
     "output_type": "execute_result"
    }
   ],
   "source": [
    "#Get a specific property from any element#use string method to get the string\n",
    "# in the below example index.html is other page link\n",
    "link = soup.find(\"a\")\n",
    "link[\"href\"]"
   ]
  },
  {
   "cell_type": "code",
   "execution_count": 25,
   "metadata": {},
   "outputs": [
    {
     "data": {
      "text/plain": [
       "'\\n\\n\\nname :\\n\\n\\n\\nemail :\\n\\n\\n\\nphone :\\n\\n\\n\\naddress :\\n\\n\\n\\nwhere to :\\n\\n\\n\\nHow many :\\n\\n\\n\\narrivals :\\n\\n\\n\\nleaving :\\n\\n\\n\\n\\n'"
      ]
     },
     "execution_count": 25,
     "metadata": {},
     "output_type": "execute_result"
    }
   ],
   "source": [
    "# For removing any blank spaces in the data use strip or replace method\n",
    "r = requests.get(\"https://yaswanth1320.github.io/travel-website/html%20pages/book.html\")\n",
    "form = BeautifulSoup(r.text, \"lxml\")\n",
    "\n",
    "data = form.find(\"form\").text\n",
    "data"
   ]
  },
  {
   "cell_type": "code",
   "execution_count": 28,
   "metadata": {},
   "outputs": [
    {
     "data": {
      "text/plain": [
       "'name :\\n\\n\\n\\nemail :\\n\\n\\n\\nphone :\\n\\n\\n\\naddress :\\n\\n\\n\\nwhere to :\\n\\n\\n\\nHow many :\\n\\n\\n\\narrivals :\\n\\n\\n\\nleaving :'"
      ]
     },
     "execution_count": 28,
     "metadata": {},
     "output_type": "execute_result"
    }
   ],
   "source": [
    "r = requests.get(\"https://yaswanth1320.github.io/travel-website/html%20pages/book.html\")\n",
    "form = BeautifulSoup(r.text, \"lxml\")\n",
    "\n",
    "data = form.find(\"form\").text.strip()\n",
    "data"
   ]
  },
  {
   "cell_type": "markdown",
   "metadata": {},
   "source": [
    "### Extracting image from website"
   ]
  },
  {
   "cell_type": "code",
   "execution_count": null,
   "metadata": {},
   "outputs": [],
   "source": [
    "url = \"https://yaswanth1320.github.io/travel-website/\"\n",
    "r = requests.get(\"https://yaswanth1320.github.io/travel-website/\")\n",
    "\n",
    "soup=BeautifulSoup(r.text,'lxml')\n",
    "\n",
    "box = soup.find(\"div\", class_ = \"image\")\n",
    "image = box.find(\"img\")\n",
    "image_url = image['src']\n",
    "full_url = url + image_url\n",
    "\n",
    "img_data = requests.get(full_url).content\n",
    "with open('travel.jpg', 'wb') as handler:\n",
    "    handler.write(img_data)"
   ]
  },
  {
   "cell_type": "code",
   "execution_count": null,
   "metadata": {},
   "outputs": [],
   "source": []
  },
  {
   "cell_type": "code",
   "execution_count": null,
   "metadata": {},
   "outputs": [],
   "source": []
  },
  {
   "cell_type": "code",
   "execution_count": null,
   "metadata": {},
   "outputs": [],
   "source": []
  },
  {
   "cell_type": "code",
   "execution_count": null,
   "metadata": {},
   "outputs": [],
   "source": []
  },
  {
   "cell_type": "code",
   "execution_count": null,
   "metadata": {},
   "outputs": [],
   "source": []
  }
 ],
 "metadata": {
  "kernelspec": {
   "display_name": "base",
   "language": "python",
   "name": "python3"
  },
  "language_info": {
   "codemirror_mode": {
    "name": "ipython",
    "version": 3
   },
   "file_extension": ".py",
   "mimetype": "text/x-python",
   "name": "python",
   "nbconvert_exporter": "python",
   "pygments_lexer": "ipython3",
   "version": "3.11.4"
  },
  "orig_nbformat": 4
 },
 "nbformat": 4,
 "nbformat_minor": 2
}
